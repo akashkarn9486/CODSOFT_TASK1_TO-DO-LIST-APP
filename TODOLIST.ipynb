{
 "cells": [
  {
   "cell_type": "code",
   "execution_count": null,
   "id": "aef1ae24-1d80-4b8e-8bd2-58c7a3b00706",
   "metadata": {},
   "outputs": [
    {
     "name": "stdout",
     "output_type": "stream",
     "text": [
      "\n",
      "✨ Let's tackle your tasks together! ✨\n",
      "\n",
      "What would you like to do?\n",
      "1. Add tasks\n",
      "2. See my list\n",
      "3. Mark task complete\n",
      "4. Remove a task\n",
      "5. Clear everything\n",
      "6. All done for now\n"
     ]
    },
    {
     "name": "stdin",
     "output_type": "stream",
     "text": [
      "\n",
      "Your choice (1-6):  1\n"
     ]
    },
    {
     "name": "stdout",
     "output_type": "stream",
     "text": [
      "\n",
      "What would you like to add to your list today?\n"
     ]
    },
    {
     "name": "stdin",
     "output_type": "stream",
     "text": [
      ">  start prep for exams \n"
     ]
    },
    {
     "name": "stdout",
     "output_type": "stream",
     "text": [
      "\n",
      "Got it! Added 'start prep for exams' to your list.\n",
      "\n",
      "Would you like to add another? (yes/no)\n"
     ]
    },
    {
     "name": "stdin",
     "output_type": "stream",
     "text": [
      ">  yes\n",
      ">  start doing yoga\n"
     ]
    },
    {
     "name": "stdout",
     "output_type": "stream",
     "text": [
      "\n",
      "Got it! Added 'start doing yoga' to your list.\n",
      "\n",
      "Would you like to add another? (yes/no)\n"
     ]
    },
    {
     "name": "stdin",
     "output_type": "stream",
     "text": [
      ">  no\n"
     ]
    },
    {
     "name": "stdout",
     "output_type": "stream",
     "text": [
      "\n",
      "What would you like to do?\n",
      "1. Add tasks\n",
      "2. See my list\n",
      "3. Mark task complete\n",
      "4. Remove a task\n",
      "5. Clear everything\n",
      "6. All done for now\n"
     ]
    },
    {
     "name": "stdin",
     "output_type": "stream",
     "text": [
      "\n",
      "Your choice (1-6):  2\n"
     ]
    },
    {
     "name": "stdout",
     "output_type": "stream",
     "text": [
      "\n",
      "Here's what we've got so far:\n",
      "1. [ ] start prep for exams\n",
      "2. [ ] start doing yoga\n",
      "\n",
      "Progress: 0 done, 2 to go!\n",
      "\n",
      "What would you like to do?\n",
      "1. Add tasks\n",
      "2. See my list\n",
      "3. Mark task complete\n",
      "4. Remove a task\n",
      "5. Clear everything\n",
      "6. All done for now\n"
     ]
    },
    {
     "name": "stdin",
     "output_type": "stream",
     "text": [
      "\n",
      "Your choice (1-6):  3\n"
     ]
    },
    {
     "name": "stdout",
     "output_type": "stream",
     "text": [
      "\n",
      "Here's what we've got so far:\n",
      "1. [ ] start prep for exams\n",
      "2. [ ] start doing yoga\n",
      "\n",
      "Progress: 0 done, 2 to go!\n",
      "\n",
      "Which task did you finish? (give me the number)\n"
     ]
    },
    {
     "name": "stdin",
     "output_type": "stream",
     "text": [
      ">  1\n"
     ]
    },
    {
     "name": "stdout",
     "output_type": "stream",
     "text": [
      "\n",
      "Nice work completing 'start prep for exams'!\n",
      "Take a moment to celebrate that accomplishment!\n",
      "\n",
      "What would you like to do?\n",
      "1. Add tasks\n",
      "2. See my list\n",
      "3. Mark task complete\n",
      "4. Remove a task\n",
      "5. Clear everything\n",
      "6. All done for now\n"
     ]
    },
    {
     "name": "stdin",
     "output_type": "stream",
     "text": [
      "\n",
      "Your choice (1-6):  4\n"
     ]
    },
    {
     "name": "stdout",
     "output_type": "stream",
     "text": [
      "\n",
      "Here's what we've got so far:\n",
      "1. [✓] start prep for exams\n",
      "2. [ ] start doing yoga\n",
      "\n",
      "Progress: 1 done, 1 to go!\n",
      "\n",
      "Which task would you like to remove? (give me the number)\n"
     ]
    }
   ],
   "source": [
    "import time\n",
    "\n",
    "class TaskBuddy:\n",
    "    def __init__(self):\n",
    "        self.tasks = []\n",
    "        self.greetings = [\"Let's tackle your tasks together!\", \n",
    "                         \"Ready to organize your day?\",\n",
    "                         \"Your productivity partner is here!\"]\n",
    "    \n",
    "    def welcome_message(self):\n",
    "        print(f\"\\n✨ {self.greetings[int(time.time()) % len(self.greetings)]} ✨\")\n",
    "        time.sleep(0.5)\n",
    "    \n",
    "    def add_task(self):\n",
    "        print(\"\\nWhat would you like to add to your list today?\")\n",
    "        while True:\n",
    "            task = input(\"> \").strip()\n",
    "            if task:\n",
    "                self.tasks.append({\"task\": task, \"completed\": False})\n",
    "                print(f\"\\nGot it! Added '{task}' to your list.\")\n",
    "                time.sleep(0.5)\n",
    "                print(\"\\nWould you like to add another? (yes/no)\")\n",
    "                if input(\"> \").lower() not in ['yes', 'y']:\n",
    "                    break\n",
    "            else:\n",
    "                print(\"Hmm, that doesn't look like a task. Try again?\")\n",
    "    \n",
    "    def show_tasks(self):\n",
    "        if not self.tasks:\n",
    "            print(\"\\nYour list is looking wonderfully empty! Enjoy your free time!\")\n",
    "            return\n",
    "        \n",
    "        print(\"\\nHere's what we've got so far:\")\n",
    "        time.sleep(0.3)\n",
    "        for idx, item in enumerate(self.tasks, 1):\n",
    "            status = \"✓\" if item[\"completed\"] else \" \"\n",
    "            print(f\"{idx}. [{status}] {item['task']}\")\n",
    "            time.sleep(0.1)\n",
    "        \n",
    "        completed = sum(1 for t in self.tasks if t[\"completed\"])\n",
    "        remaining = len(self.tasks) - completed\n",
    "        print(f\"\\nProgress: {completed} done, {remaining} to go!\")\n",
    "    \n",
    "    def complete_task(self):\n",
    "        self.show_tasks()\n",
    "        if not self.tasks:\n",
    "            return\n",
    "        \n",
    "        print(\"\\nWhich task did you finish? (give me the number)\")\n",
    "        try:\n",
    "            task_num = int(input(\"> \")) - 1\n",
    "            if 0 <= task_num < len(self.tasks):\n",
    "                if self.tasks[task_num][\"completed\"]:\n",
    "                    print(f\"\\nYou already completed '{self.tasks[task_num]['task']}'! Good job!\")\n",
    "                else:\n",
    "                    self.tasks[task_num][\"completed\"] = True\n",
    "                    print(f\"\\nNice work completing '{self.tasks[task_num]['task']}'!\")\n",
    "                    print(\"Take a moment to celebrate that accomplishment!\")\n",
    "            else:\n",
    "                print(\"\\nHmm, I can't find that task number. Let's try again?\")\n",
    "        except ValueError:\n",
    "            print(\"\\nLet's use numbers to pick tasks, okay?\")\n",
    "    \n",
    "    def remove_task(self):\n",
    "        self.show_tasks()\n",
    "        if not self.tasks:\n",
    "            return\n",
    "        \n",
    "        print(\"\\nWhich task would you like to remove? (give me the number)\")\n",
    "        try:\n",
    "            task_num = int(input(\"> \")) - 1\n",
    "            if 0 <= task_num < len(self.tasks):\n",
    "                removed = self.tasks.pop(task_num)\n",
    "                print(f\"\\nRemoved '{removed['task']}' from your list.\")\n",
    "                if not removed[\"completed\"]:\n",
    "                    print(\"Was this no longer important, or did you complete it elsewhere?\")\n",
    "            else:\n",
    "                print(\"\\nThat number doesn't match any tasks. Want to try again?\")\n",
    "        except ValueError:\n",
    "            print(\"\\nNumbers work best for this. Can you try again?\")\n",
    "    \n",
    "    def clear_list(self):\n",
    "        if not self.tasks:\n",
    "            print(\"\\nYour list is already clear and peaceful!\")\n",
    "            return\n",
    "        \n",
    "        print(\"\\nAre you sure you want to start fresh? This will remove everything.\")\n",
    "        print(\"Type 'CLEAR' to confirm, or anything else to cancel.\")\n",
    "        if input(\"> \").upper() == \"CLEAR\":\n",
    "            self.tasks = []\n",
    "            print(\"\\nYour list is now fresh and empty!\")\n",
    "            print(\"A blank canvas for new possibilities!\")\n",
    "        else:\n",
    "            print(\"\\nWhew! Your tasks are safe. Let's keep working on them!\")\n",
    "\n",
    "def main():\n",
    "    helper = TaskBuddy()\n",
    "    helper.welcome_message()\n",
    "    \n",
    "    while True:\n",
    "        time.sleep(0.5)\n",
    "        print(\"\\nWhat would you like to do?\")\n",
    "        print(\"1. Add tasks\")\n",
    "        print(\"2. See my list\")\n",
    "        print(\"3. Mark task complete\")\n",
    "        print(\"4. Remove a task\")\n",
    "        print(\"5. Clear everything\")\n",
    "        print(\"6. All done for now\")\n",
    "        \n",
    "        choice = input(\"\\nYour choice (1-6): \").strip()\n",
    "        \n",
    "        if choice == \"1\":\n",
    "            helper.add_task()\n",
    "        elif choice == \"2\":\n",
    "            helper.show_tasks()\n",
    "        elif choice == \"3\":\n",
    "            helper.complete_task()\n",
    "        elif choice == \"4\":\n",
    "            helper.remove_task()\n",
    "        elif choice == \"5\":\n",
    "            helper.clear_list()\n",
    "        elif choice == \"6\":\n",
    "            print(\"\\nGreat work today! Come back whenever you need help staying organized.\")\n",
    "            print(\"Remember: Progress, not perfection!\")\n",
    "            break\n",
    "        else:\n",
    "            print(\"\\nI didn't understand that. Let's try again?\")\n",
    "\n",
    "if __name__ == \"__main__\":\n",
    "    main()"
   ]
  },
  {
   "cell_type": "code",
   "execution_count": null,
   "id": "17e64674-bb0a-4c8b-a121-d0fa7c65a945",
   "metadata": {},
   "outputs": [],
   "source": []
  },
  {
   "cell_type": "code",
   "execution_count": null,
   "id": "5d1a6581-3736-47bf-8747-cd7d229c3668",
   "metadata": {},
   "outputs": [],
   "source": []
  }
 ],
 "metadata": {
  "kernelspec": {
   "display_name": "Python [conda env:base] *",
   "language": "python",
   "name": "conda-base-py"
  },
  "language_info": {
   "codemirror_mode": {
    "name": "ipython",
    "version": 3
   },
   "file_extension": ".py",
   "mimetype": "text/x-python",
   "name": "python",
   "nbconvert_exporter": "python",
   "pygments_lexer": "ipython3",
   "version": "3.12.7"
  }
 },
 "nbformat": 4,
 "nbformat_minor": 5
}
